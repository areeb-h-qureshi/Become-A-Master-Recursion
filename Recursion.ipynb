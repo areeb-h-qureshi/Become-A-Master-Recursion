{
  "nbformat": 4,
  "nbformat_minor": 0,
  "metadata": {
    "colab": {
      "name": "Recursion.ipynb",
      "provenance": [],
      "collapsed_sections": [],
      "toc_visible": true,
      "authorship_tag": "ABX9TyPq0T/qF7zMELGVF0h9Z47i",
      "include_colab_link": true
    },
    "kernelspec": {
      "name": "python3",
      "display_name": "Python 3"
    },
    "language_info": {
      "name": "python"
    }
  },
  "cells": [
    {
      "cell_type": "markdown",
      "metadata": {
        "id": "view-in-github",
        "colab_type": "text"
      },
      "source": [
        "<a href=\"https://colab.research.google.com/github/areeb-h-qureshi/Become-A-Master-Recursion/blob/main/Recursion.ipynb\" target=\"_parent\"><img src=\"https://colab.research.google.com/assets/colab-badge.svg\" alt=\"Open In Colab\"/></a>"
      ]
    },
    {
      "cell_type": "markdown",
      "source": [
        "# **Become a Master of Recursion**\n",
        "---\n",
        "\n",
        "---\n",
        "\n",
        "Original post by @hi-malik. Python code written by @areebhqureshi with help from GeekforGeeks.\n",
        "\n",
        "> https://leetcode.com/discuss/study-guide/1733447/become-master-in-recursion"
      ],
      "metadata": {
        "id": "scEiOzOY59Qu"
      }
    },
    {
      "cell_type": "code",
      "source": [
        "from IPython.display import Image\n",
        "Image(url='https://media.giphy.com/media/xTiIzJSKB4l7xTouE8/giphy.gif')"
      ],
      "metadata": {
        "colab": {
          "base_uri": "https://localhost:8080/",
          "height": 229
        },
        "id": "Eu9HduAvyh1_",
        "outputId": "f046fb5b-63f4-4d8c-ee2a-41a0cd1acc5b"
      },
      "execution_count": 66,
      "outputs": [
        {
          "output_type": "execute_result",
          "data": {
            "text/plain": [
              "<IPython.core.display.Image object>"
            ],
            "text/html": [
              "<img src=\"https://media.giphy.com/media/xTiIzJSKB4l7xTouE8/giphy.gif\"/>"
            ]
          },
          "metadata": {},
          "execution_count": 66
        }
      ]
    },
    {
      "cell_type": "markdown",
      "source": [
        "# Counting Down\n",
        "\n"
      ],
      "metadata": {
        "id": "ySbehNimGSKc"
      }
    },
    {
      "cell_type": "code",
      "source": [
        "def countDown(num, end = 1):\n",
        "  if num <= end:\n",
        "    print(end)\n",
        "    return\n",
        "  print(num, end = ' ')\n",
        "  countDown(num-1, end)\n",
        "\n",
        "if __name__ == '__main__':\n",
        "  # Test Case 01\n",
        "  # Expected Answer: 7 6 5 4 3 2 1 \n",
        "  start = 7\n",
        "  print(f'Counting Down from {start}:')\n",
        "  countDown(start)\n",
        "\n",
        "  # Test Case 02\n",
        "  # Expected Answer: 15 14 13 12 11 10 9 8\n",
        "  start = 15\n",
        "  stop = 8\n",
        "  print(f'Counting Down from {start} to {stop}:')\n",
        "  countDown(start, stop)\n"
      ],
      "metadata": {
        "colab": {
          "base_uri": "https://localhost:8080/"
        },
        "id": "sWufZX8M8CNo",
        "outputId": "0e15b435-46cd-4878-c6a8-5b51a6f0b8a1"
      },
      "execution_count": null,
      "outputs": [
        {
          "output_type": "stream",
          "name": "stdout",
          "text": [
            "Counting Down from 7:\n",
            "7 6 5 4 3 2 1\n",
            "Counting Down from 15 to 8:\n",
            "15 14 13 12 11 10 9 8\n"
          ]
        }
      ]
    },
    {
      "cell_type": "markdown",
      "source": [
        "# Counting Up"
      ],
      "metadata": {
        "id": "nfYq4TKSGlVo"
      }
    },
    {
      "cell_type": "code",
      "source": [
        "def countUp(num, start = 1):\n",
        "  if num < start:\n",
        "    print()\n",
        "    return \n",
        "  countUp(num-1, start)\n",
        "  print(num, end = ' ')\n",
        "\n",
        "if __name__ == '__main__':\n",
        "  # Test Case 01\n",
        "  # Expected Answer: 1 2 3 4 5 6 7\n",
        "  start = 7\n",
        "  print(f'Counting Up from {start}:', end = '')\n",
        "  countUp(start)\n",
        "  \n",
        "  # Test Case 02\n",
        "  # Expected Answer: 15 14 13 12 11 10 9 8\n",
        "  start = 8\n",
        "  stop = 15\n",
        "  print(f'\\nCounting Up from {start} till {stop}:', end = '')\n",
        "  countUp(stop, start)\n"
      ],
      "metadata": {
        "colab": {
          "base_uri": "https://localhost:8080/"
        },
        "id": "fvLGdp_L8g49",
        "outputId": "3d5e7e62-ac0e-40be-b17c-c955844c4351"
      },
      "execution_count": null,
      "outputs": [
        {
          "output_type": "stream",
          "name": "stdout",
          "text": [
            "Counting Up from 7:\n",
            "1 2 3 4 5 6 7 \n",
            "Counting Up from 8 till 15:\n",
            "8 9 10 11 12 13 14 15 "
          ]
        }
      ]
    },
    {
      "cell_type": "markdown",
      "source": [
        "# Binary Tree Height"
      ],
      "metadata": {
        "id": "rK9Ht3bEGi-q"
      }
    },
    {
      "cell_type": "code",
      "source": [
        "# First make a class for a Tree Node\n",
        "\n",
        "class TreeNode: # This class represents a single data node with two Null children Nodes.\n",
        "                # Tree will be made by manually entring more TreeNodes to the currently Null children Nodes.\n",
        "  def __init__(self, val):\n",
        "    self.val = val \n",
        "    self.left = None\n",
        "    self.right = None\n",
        "\n",
        "# Second make the height function with a binary tree as an input\n",
        "def height(root): # Height refers to the number of generations in the tree (parent, child,...)\n",
        "  if root == None: # Base Condition: if the root of a binary tree is Null then it will have a height of Zero(0).\n",
        "    return 0\n",
        "  leftH = height(root.left) # Each Test root will as its left what would be the height if that child was the root.\n",
        "  rightH = height(root.right) # Now the Test root will ask its right child the same question.\n",
        "\n",
        "  return max(leftH, rightH) + 1 # The child with longest height is added to one - for the current non-Null test node \n",
        "  \n",
        "  # The recursion appraoch is a depth-first search where the number of genrations are counted from the bottom up.\n",
        "\n",
        "# Lastly run the main function\n",
        "if __name__ == '__main__':\n",
        "  # Initializing first Test Tree\n",
        "  root = TreeNode('a')\n",
        "  root.left = TreeNode('b')\n",
        "  root.right = TreeNode('c')\n",
        "  root.left.left = TreeNode('d')\n",
        "  root.left.right = TreeNode('e')\n",
        "  root.right.left = TreeNode('f')\n",
        "  root.right.right = TreeNode('g')\n",
        "  root.left.left.left = TreeNode('h')\n",
        "  # Priniting height for first test\n",
        "  res = f'Height of Binary Tree is {height(root)}!'\n",
        "  print(res)\n",
        "\n",
        "  # Initializing second Test Tree\n",
        "  root = TreeNode(1)\n",
        "  root.left = TreeNode(2)\n",
        "  root.right = TreeNode(3)\n",
        "  root.left.left = TreeNode(4)\n",
        "  root.left.right = TreeNode(5)\n",
        "  # Priniting height for second test\n",
        "  res = f'Height of Binary Tree is {height(root)}!'\n",
        "  print(res)"
      ],
      "metadata": {
        "colab": {
          "base_uri": "https://localhost:8080/"
        },
        "id": "SRWZCUgY5b-c",
        "outputId": "eb573014-a37c-400a-a748-9867db131a77"
      },
      "execution_count": null,
      "outputs": [
        {
          "output_type": "stream",
          "name": "stdout",
          "text": [
            "Height of Binary Tree is 4!\n",
            "Height of Binary Tree is 3!\n"
          ]
        }
      ]
    },
    {
      "cell_type": "markdown",
      "source": [
        "# Array Sorting"
      ],
      "metadata": {
        "id": "WO9I4PbyIPeJ"
      }
    },
    {
      "cell_type": "code",
      "source": [
        "# No Duplicates allowed\n",
        "\n",
        "def sort_l(arr):\n",
        "  if len(arr) <= 1: # Base Condition\n",
        "    return arr \n",
        "  temp = arr[-1] \n",
        "  arr.pop() # Hypothesis: Reduce the list down to just one element\n",
        "  sort_l(arr) \n",
        "  ordered_insert(arr, temp) # Induction: Insert one element at a time, in sorted order. Helper function ordered_insert will used.\n",
        "  return arr # Returning sorted list\n",
        "\n",
        "def ordered_insert(arr, number): # Helper function for induction\n",
        "  for i in range(len(arr)):\n",
        "    if arr[i] > number:\n",
        "      arr.insert(i, number)\n",
        "      break # this break is important. Otherwise the number could be inserted multiple times.\n",
        "    elif arr[-1] < number:\n",
        "      arr.append(number)\n",
        "  return\n",
        "\n",
        "if __name__ == '__main__':\n",
        "  # Test Case 01\n",
        "  # Expected answer: [0, 1, 2, 5, 6]\n",
        "  arr = [1,0,5,6,2]\n",
        "  sort_l(arr)\n",
        "  print(f'The sorted array is: {arr}')\n",
        "\n",
        "  # Test Case 02\n",
        "  # Expected answer: [1, 2, 3, 4, 5, 6, 7, 8, 9]\n",
        "  arr = [3,1,2,4,7,5,6,9,8]\n",
        "  sort_l(arr)\n",
        "  print(f'The sorted array is: {arr}')\n",
        "\n",
        "  # Test Case 03\n",
        "  # Expected answer: [-6, -3, 0, 2, 3, 6]\n",
        "  arr = [-3, -6, 0, 6, 3, 2]\n",
        "  sort_l(arr)\n",
        "  print(f'The sorted array is: {arr}')"
      ],
      "metadata": {
        "id": "vK-a3raJhBnP",
        "colab": {
          "base_uri": "https://localhost:8080/"
        },
        "outputId": "66f1747a-3e9d-4459-f9d5-47212a4cac21"
      },
      "execution_count": null,
      "outputs": [
        {
          "output_type": "stream",
          "name": "stdout",
          "text": [
            "The sorted array is: [0, 1, 2, 5, 6]\n",
            "The sorted array is: [1, 2, 3, 4, 5, 6, 7, 8, 9]\n",
            "The sorted array is: [-6, -3, 0, 2, 3, 6]\n"
          ]
        }
      ]
    },
    {
      "cell_type": "markdown",
      "source": [
        "# Stack Sorting"
      ],
      "metadata": {
        "id": "95Z77BohGxGW"
      }
    },
    {
      "cell_type": "code",
      "source": [
        "class Stack:\n",
        "  def __init__(self, arr=[]):\n",
        "    self.stack = []\n",
        "    self.hashset = set()\n",
        "    for ele in arr:\n",
        "      self.stack.append(ele)\n",
        "      if ele in self.hashset:\n",
        "        raise ValueError('Duplicate Values not allowed')\n",
        "      self.hashset.add(ele)\n",
        "\n",
        "  def __len__(self):\n",
        "    return len(self.stack)\n",
        "\n",
        "  def __str__(self):\n",
        "    res = ''\n",
        "    for each in self.stack:\n",
        "      res += str(each) + ' '\n",
        "    return res\n",
        "\n",
        "  def get_stack(self):\n",
        "    return self.stack\n",
        "\n",
        "  def push(self, number):\n",
        "    if number in self.hashset:\n",
        "        raise ValueError('Duplicate Values not allowed')\n",
        "    self.hashset.add(number)\n",
        "    self.stack.append(number)\n",
        "\n",
        "\n",
        "  def pop(self):\n",
        "    ele = self.stack[-1]\n",
        "    self.stack.pop()\n",
        "    self.hashset.remove(ele)\n",
        "    return ele\n",
        "\n",
        "  def tail(self):\n",
        "    tail = self.stack[-1]\n",
        "    print(tail)\n",
        "\n",
        "  def sort_s(self):\n",
        "    if len(self.stack) <= 1: # Base Condition\n",
        "      return self.stack\n",
        "    temp = self.pop() # Hypothesis\n",
        "    self.sort_s()\n",
        "    return self.ordered_insert(self.stack, temp) # Induction\n",
        "    \n",
        "\n",
        "  def ordered_insert(self, arr, temp):\n",
        "    for i in range(len(arr)):\n",
        "      if arr[i] > temp:\n",
        "        arr.insert(i, temp)\n",
        "        break\n",
        "      elif arr[-1] < temp:\n",
        "        arr.append(temp)\n",
        "    return arr\n",
        "  \n",
        "\n",
        "if __name__ == '__main__':\n",
        "  # Test Case 01\n",
        "  # Stack ---> 0 5 1 4 -2\n",
        "  # Expected Answer ---> -2 0 1 4 5 \n",
        "  test1 = Stack([0, 5, 1])\n",
        "  test1.push(4)\n",
        "  test1.push(-2)\n",
        "  test1.sort_s()\n",
        "  print(f'Sorted Stack is: {test1}')\n",
        "\n",
        "  # Test Case 02\n",
        "  # Stack ---> 3 -3 0 12 -12 -24 -25 26 9 6 25897 -85200\n",
        "  # Expected Result ---> -85200 -25 -24 -12 -3 0 3 6 9 12 26 25897\n",
        "  test2 = Stack()\n",
        "  test2.push(3)\n",
        "  test2.push(-3)\n",
        "  test2.push(0)\n",
        "  test2.push(12)\n",
        "  test2.push(-12)\n",
        "  test2.push(-24)\n",
        "  test2.push(-25)\n",
        "  test2.push(26)\n",
        "  test2.push(9)\n",
        "  test2.push(6)\n",
        "  test2.push(25897)\n",
        "  test2.push(-85200)\n",
        "  test2.sort_s()\n",
        "  print(f'\\nSorted Stack is: {test2}')"
      ],
      "metadata": {
        "id": "92PES39gUfqR",
        "colab": {
          "base_uri": "https://localhost:8080/"
        },
        "outputId": "c7ff069e-dcd9-4be3-f39c-ccbd5425d0a3"
      },
      "execution_count": null,
      "outputs": [
        {
          "output_type": "stream",
          "name": "stdout",
          "text": [
            "Sorted Stack is: -2 0 1 4 5 \n",
            "\n",
            "Sorted Stack is: -85200 -25 -24 -12 -3 0 3 6 9 12 26 25897 \n"
          ]
        }
      ]
    },
    {
      "cell_type": "markdown",
      "source": [
        "# Stack Middle Element Delete"
      ],
      "metadata": {
        "id": "IeH4eSokJFMU"
      }
    },
    {
      "cell_type": "code",
      "source": [
        "class Stack:\n",
        "  def __init__(self, arr=[]):\n",
        "    self.stack = arr\n",
        "\n",
        "  def __len__(self):\n",
        "    return len(self.stack)\n",
        "\n",
        "  def __str__(self):\n",
        "    res = ''\n",
        "    for each in self.stack:\n",
        "      res += str(each) + ' '\n",
        "    return res\n",
        "\n",
        "  def push(self, number):\n",
        "    self.stack.append(number)\n",
        "\n",
        "  def pop(self):\n",
        "    self.stack.pop()\n",
        "    return \n",
        "\n",
        "  def peek(self):\n",
        "    ele = self.stack[-1]\n",
        "    return ele\n",
        "\n",
        "  def mid_del(self, size, counted = 0):\n",
        "    # Base Condition\n",
        "    # when stack is empty return empty stack\n",
        "    if not self or counted == size :\n",
        "        return self\n",
        "      \n",
        "    # Hypothesis\n",
        "    # Remove element from top of stack and store in temp variable\n",
        "    temp = self.peek()\n",
        "    self.pop()\n",
        "      \n",
        "    # Remove other items\n",
        "    self.mid_del(size, counted+1)\n",
        "\n",
        "    # Induction  \n",
        "    # Put all items back except middle\n",
        "    if size%2 != 0 and (counted != size//2) :\n",
        "        self.push(temp)\n",
        "    elif size%2 == 0 and (counted != size//2 - 1) :\n",
        "        self.push(temp)\n",
        "\n",
        "if __name__ == '__main__':\n",
        "  # Test Case 01\n",
        "  # Stack ---> -2 0 1 4 5\n",
        "  # Expected Answer ---> -2 0 4 5 \n",
        "  test1 = Stack([-2,0,1,4,5])\n",
        "  print(f'Stack Before: {test1}')\n",
        "  test1.mid_del(len(test1))\n",
        "  print(f'Stack After: {test1}\\n')\n",
        "\n",
        "  # Test Case 02\n",
        "  # Stack ---> 1 2 3 4 5 6\n",
        "  # Expected Result ---> 1 2 3 5 6\n",
        "  test2 = Stack([1,2,3,4,5,6])\n",
        "  print(f'Stack Before: {test2}')\n",
        "  test2.mid_del(len(test2))\n",
        "  print(f'Stack After: {test2}\\n')\n",
        "\n",
        "  # Test Case 03\n",
        "  # Stack ---> a b c\n",
        "  # Expected Result ---> a c\n",
        "  test3 = Stack(['a', 'b', 'c'])\n",
        "  print(f'Stack Before: {test3}')\n",
        "  test3.mid_del(len(test3))\n",
        "  print(f'Stack After: {test3}\\n')\n",
        "\n",
        "  # Test Case 04\n",
        "  # Stack ---> 8 -2 55 12 -47 10\n",
        "  # Expected Result ---> 8 -2 55 -47 10\n",
        "  test4 = Stack([8, -2, 55, 12, -47, 10])\n",
        "  print(f'Stack Before: {test4}')\n",
        "  test4.mid_del(len(test4))\n",
        "  print(f'Stack After: {test4}')"
      ],
      "metadata": {
        "colab": {
          "base_uri": "https://localhost:8080/"
        },
        "outputId": "3647c26a-a040-40f6-9d77-277e2aeada4e",
        "id": "zXGo4E46GJ86"
      },
      "execution_count": null,
      "outputs": [
        {
          "output_type": "stream",
          "name": "stdout",
          "text": [
            "Stack Before: -2 0 1 4 5 \n",
            "Stack After: -2 0 4 5 \n",
            "\n",
            "Stack Before: 1 2 3 4 5 6 \n",
            "Stack After: 1 2 3 5 6 \n",
            "\n",
            "Stack Before: a b c \n",
            "Stack After: a c \n",
            "\n",
            "Stack Before: 8 -2 55 12 -47 10 \n",
            "Stack After: 8 -2 55 -47 10 \n"
          ]
        }
      ]
    },
    {
      "cell_type": "markdown",
      "source": [
        "# Reverse a Stack"
      ],
      "metadata": {
        "id": "ZFJGI1TQxFep"
      }
    },
    {
      "cell_type": "code",
      "source": [
        ""
      ],
      "metadata": {
        "id": "DQMiosKsxP0p"
      },
      "execution_count": null,
      "outputs": []
    }
  ]
}